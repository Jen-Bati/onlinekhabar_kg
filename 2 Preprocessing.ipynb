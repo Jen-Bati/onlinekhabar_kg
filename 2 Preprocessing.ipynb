{
 "cells": [
  {
   "cell_type": "code",
   "execution_count": 1,
   "id": "879f113c",
   "metadata": {},
   "outputs": [
    {
     "name": "stderr",
     "output_type": "stream",
     "text": [
      "[nltk_data] Downloading package punkt to\n",
      "[nltk_data]     C:\\Users\\jain_\\AppData\\Roaming\\nltk_data...\n",
      "[nltk_data]   Package punkt is already up-to-date!\n",
      "[nltk_data] Downloading package stopwords to\n",
      "[nltk_data]     C:\\Users\\jain_\\AppData\\Roaming\\nltk_data...\n",
      "[nltk_data]   Package stopwords is already up-to-date!\n"
     ]
    }
   ],
   "source": [
    "#Importing important libraries\n",
    "import nltk\n",
    "from nltk.tokenize import word_tokenize\n",
    "from nltk.corpus import stopwords\n",
    "nltk.download('punkt')\n",
    "nltk.download('stopwords')\n",
    "import re"
   ]
  },
  {
   "cell_type": "code",
   "execution_count": 2,
   "id": "3603ab4a",
   "metadata": {},
   "outputs": [],
   "source": [
    "# Load the Apostrophes connecting words\n",
    "with open('appos.txt','r') as f:\n",
    "    appos = eval(f.read())"
   ]
  },
  {
   "cell_type": "code",
   "execution_count": 3,
   "id": "130cf89c",
   "metadata": {},
   "outputs": [
    {
     "name": "stdout",
     "output_type": "stream",
     "text": [
      "\"\n",
      "Rabi Lamichhane wins Chitwan 2 with 54,276 votes, 43,025 more than the closest rival \",\"\n",
      "Rabi Lamichhane wins Chitwan 2 with 54,276 votes, 43,025 more than the closest rival  Rastriya Swatantra Party president Rabi Lamichhane has won the by-election in Chitwan 2, the constituency he was elected from during the House of Representatives election in November 2022. This time, Lamichhane increased both the number of votes he obtained and the difference with the closest rival.  As per the officials, Lamichhane received 54,276 votes, which was 43,025 more than his closest rival, Jit Narayan Shrestha of the Nepali Congress (11,251 votes). Ram Prasad Neupane of the CPN-UML, third in the order, got 10,936 votes. In the November elections, Lamichhane received 49,300 votes against 14,988 votes received by Umesh Shrestha of the Nepali Congress. As the Supreme Court revoked his House membership over the citizenship legitimacy issue, Lamichhane was forced to obtain back his citizenship and prepare for the by-election.\"\n",
      "\"\n",
      "Rabi Lamichhane, Swarnim Wagle take oath as lawmakers; Upendra Yadav is absent \",\"\n",
      "Rabi Lamichhane, Swarnim Wagle take oath as lawmakers; Upendra Yadav is absent  Two of the three lawmakers elected from the recent by-elections–Rabi Lamichhane and Swarnim Wagle–have taken the oath of office and secrecy as members of the House of Representatives. Lamichhane and Wagle, the leaders of the Rastriya Swatantra Party elected from Chitwan 2 and Tanahun 1 respectively, were sworn in by Speaker Dev Raj Ghimire at the function organised in Kathmandu on Friday morning. The third lawmaker, Upendra Yadav, the chairman of the Janata Samajbadi Party Nepal, elected from Bara 2, was absent. Meanwhile, the RSP president Lamichhane said his party would not join the government in the present circumstances.  Subscribe to Onlinekhabar English to get notified of exclusive news stories.\"\n",
      "\"\n",
      "Commission registers Rabi Lamichhane’s National Independent Party, gives bell as election symbol \",\"\n",
      "Commission registers Rabi Lamichhane’s National Independent Party, gives bell as election symbol  The Election Commission has approved the formation of a new political party named the National Independent Party led by popular former journalist Rabi Lamichhane. Although a complaint was registered against the proposed name of the party, the commission approved it. The constitutional body awarded the registration certificate to Lamichhane on Friday.  Lamichhane says the Nepal Independent Party has received a bell within a circle as the election symbol.  “The political party has been registered. Now, it has to go to the people,” Lamichhane says, “So far, we have got a chance to tell the public about a few things about our party. Now, we will continue sharing our views with them.” Subscribe to Onlinekhabar English to get notified of exclusive news stories.\"\n",
      "\"\n",
      "Rabi Lamichhane announces Nepal Independent Party \",\"\n",
      "Rabi Lamichhane announces Nepal Independent Party  Television personality Rabi Lamichhane announced the formation of a new party – Nepal Independent Party, at a programme held in Rastriya Sabha Griha in Kathmandu on Monday.  The election symbol for his party will be a bell.  Lamichhane yet did not say from where he would be contesting the next parliamentary elections. He also urged other independent candidates to join his party. Rabi Lamichhane said he had to form a party to collect proportional representational votes from all over the country.\"\n",
      "\"\n",
      "Rabi Lamichhane exits TV to enter politics \",\"\n",
      "Rabi Lamichhane exits TV to enter politics  Popular television presenter Rabi Lamichhane has announced he will contest in the forthcoming federal elections. Lamichhane says he will host a programme on June 21 at Rastriya Sabha Griha and officially announce his candidacy for the elections expected to be held around November. “I will contest the election from a constituency in Kathmandu. Which? I’ll announce that and more on June 21. I’ll also announce if I’m contesting the election independently or by forming a new party,” he said. Following this, Rabi Lamichhane has also resigned from his post as managing director at Galaxy 4k TV. Subscribe to Onlinekhabar English to get notified of exclusive news stories.\"\n",
      "\n"
     ]
    }
   ],
   "source": [
    "try:\n",
    "    with open(\"1_WebScraping.csv\", 'r') as file:\n",
    "        text = file.read()\n",
    "        print(text)\n",
    "except FileNotFoundError:\n",
    "    print(\"ERROR: perform webscraping first !!!\")\n"
   ]
  },
  {
   "cell_type": "code",
   "execution_count": 4,
   "id": "608a51ac",
   "metadata": {},
   "outputs": [],
   "source": [
    "# Function returns the negation handled word if it is present in the appos dictionary else returns the word itself\n",
    "def negationHandling(word):\n",
    "    if word in appos:\n",
    "        return appos[word]\n",
    "    else:\n",
    "        return word"
   ]
  },
  {
   "cell_type": "code",
   "execution_count": 5,
   "id": "d231d871",
   "metadata": {},
   "outputs": [],
   "source": [
    "# Check if a word is a Stopword\n",
    "# Stopword is a word that is commonly present in most of the documents and does not affect the model\n",
    "# ie stopword dose not add context \n",
    "def isNotStopWord(word):\n",
    "    return word not in stopwords.words('english')"
   ]
  },
  {
   "cell_type": "code",
   "execution_count": 6,
   "id": "c5c97da9",
   "metadata": {},
   "outputs": [],
   "source": [
    "def preprocessingText(text):\n",
    "    text = re.sub(\"[\\(\\[].*?[\\)\\]]\", \"\", text)\n",
    "    sentences = nltk.sent_tokenize(text)\n",
    "    tokens = []\n",
    "    #temp = \"\"\n",
    "    \n",
    "    for sentence in sentences:\n",
    "        #tokens = []\n",
    "        words = nltk.word_tokenize(sentence)\n",
    "        \n",
    "        #Converting to LowerCase\n",
    "        words = map(str.lower, words)\n",
    "        \n",
    "        # Remove stop words\n",
    "        words = filter(lambda x: isNotStopWord(x), words)\n",
    "    \n",
    "        # Removing punctuations except '<.>/<?>/<!>'\n",
    "        punctuations = '\"#$%&\\'()*+,-/:;<=>@\\\\^_`{|}~'\n",
    "        words = map(lambda x: x.translate(str.maketrans('', '', punctuations)), words)\n",
    "\n",
    "        # Remove empty strings\n",
    "        words = filter(lambda x: len(x) > 0, words)\n",
    "\n",
    "        tokens = tokens + list(words)\n",
    "        #print(tokens)\n",
    "        temp = ' '.join(word for word in tokens)\n",
    "        \n",
    "    return temp"
   ]
  },
  {
   "cell_type": "code",
   "execution_count": 7,
   "id": "7fb165a6",
   "metadata": {},
   "outputs": [],
   "source": [
    "text = preprocessingText(text)"
   ]
  },
  {
   "cell_type": "code",
   "execution_count": 10,
   "id": "6120a74b",
   "metadata": {},
   "outputs": [
    {
     "data": {
      "text/plain": [
       "['rabi lamichhane wins chitwan 2 54276 votes 43025 closest rival rabi lamichhane wins chitwan 2 54276 votes 43025 closest rival rastriya swatantra party president rabi lamichhane byelection chitwan 2 constituency elected house representatives election november 2022 . time lamichhane increased number votes obtained difference closest rival .',\n",
       " 'per officials lamichhane received 54276 votes 43025 closest rival jit narayan shrestha nepali congress .',\n",
       " 'ram prasad neupane cpnuml third order got 10936 votes .',\n",
       " 'november elections lamichhane received 49300 votes 14988 votes received umesh shrestha nepali congress .',\n",
       " 'supreme court revoked house membership citizenship legitimacy issue lamichhane forced obtain back citizenship prepare byelection .',\n",
       " 'rabi lamichhane swarnim wagle take oath lawmakers upendra yadav absent rabi lamichhane swarnim wagle take oath lawmakers upendra yadav absent two three lawmakers elected recent byelections–rabi lamichhane swarnim wagle–have taken oath office secrecy members house representatives .',\n",
       " 'lamichhane wagle leaders rastriya swatantra party elected chitwan 2 tanahun 1 respectively sworn speaker dev raj ghimire function organised kathmandu friday morning .',\n",
       " 'third lawmaker upendra yadav chairman janata samajbadi party nepal elected bara 2 absent .',\n",
       " 'meanwhile rsp president lamichhane said party would join government present circumstances .',\n",
       " 'subscribe onlinekhabar english get notified exclusive news stories .',\n",
       " 'commission registers rabi lamichhane ’ national independent party gives bell election symbol commission registers rabi lamichhane ’ national independent party gives bell election symbol election commission approved formation new political party named national independent party led popular former journalist rabi lamichhane .',\n",
       " 'although complaint registered proposed name party commission approved .',\n",
       " 'constitutional body awarded registration certificate lamichhane friday .',\n",
       " 'lamichhane says nepal independent party received bell within circle election symbol .',\n",
       " '“ political party registered .',\n",
       " 'go people ” lamichhane says “ far got chance tell public things party .',\n",
       " 'continue sharing views them.',\n",
       " '” subscribe onlinekhabar english get notified exclusive news stories .',\n",
       " 'rabi lamichhane announces nepal independent party rabi lamichhane announces nepal independent party television personality rabi lamichhane announced formation new party – nepal independent party programme held rastriya sabha griha kathmandu monday .',\n",
       " 'election symbol party bell .',\n",
       " 'lamichhane yet say would contesting next parliamentary elections .',\n",
       " 'also urged independent candidates join party .',\n",
       " 'rabi lamichhane said form party collect proportional representational votes country .',\n",
       " 'rabi lamichhane exits tv enter politics rabi lamichhane exits tv enter politics popular television presenter rabi lamichhane announced contest forthcoming federal elections .',\n",
       " 'lamichhane says host programme june 21 rastriya sabha griha officially announce candidacy elections expected held around november .',\n",
       " '“ contest election constituency kathmandu . ?',\n",
       " '’ announce june 21 .',\n",
       " '’ also announce ’ contesting election independently forming new party ” said .',\n",
       " 'following rabi lamichhane also resigned post managing director galaxy 4k tv .',\n",
       " 'subscribe onlinekhabar english get notified exclusive news stories .']"
      ]
     },
     "execution_count": 10,
     "metadata": {},
     "output_type": "execute_result"
    }
   ],
   "source": [
    "import nltk  \n",
    "\n",
    "sentences = nltk.sent_tokenize(text)   \n",
    "sentences "
   ]
  },
  {
   "cell_type": "code",
   "execution_count": 12,
   "id": "816a2986",
   "metadata": {},
   "outputs": [],
   "source": [
    "import pandas as pd\n",
    "\n",
    "df = pd.DataFrame(sentences)\n",
    "df.to_csv(\"2_Preprocessed.csv\", index=False, header=['sentence'])"
   ]
  }
 ],
 "metadata": {
  "kernelspec": {
   "display_name": "Python 3 (ipykernel)",
   "language": "python",
   "name": "python3"
  },
  "language_info": {
   "codemirror_mode": {
    "name": "ipython",
    "version": 3
   },
   "file_extension": ".py",
   "mimetype": "text/x-python",
   "name": "python",
   "nbconvert_exporter": "python",
   "pygments_lexer": "ipython3",
   "version": "3.9.12"
  }
 },
 "nbformat": 4,
 "nbformat_minor": 5
}
