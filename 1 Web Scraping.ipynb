{
 "cells": [
  {
   "cell_type": "code",
   "execution_count": 1,
   "id": "f9a6078a",
   "metadata": {
    "scrolled": true
   },
   "outputs": [
    {
     "name": "stdout",
     "output_type": "stream",
     "text": [
      "<Response [200]>\n",
      "div\n",
      "{'title': '\\nRabi Lamichhane wins Chitwan 2 with 54,276 votes, 43,025 more than the closest rival ', 'content': '\\nRabi Lamichhane wins Chitwan 2 with 54,276 votes, 43,025 more than the closest rival  Rastriya Swatantra Party president Rabi Lamichhane has won the by-election in Chitwan 2, the constituency he was elected from during the House of Representatives election in November 2022. This time, Lamichhane increased both the number of votes he obtained and the difference with the closest rival.  As per the officials, Lamichhane received 54,276 votes, which was 43,025 more than his closest rival, Jit Narayan Shrestha of the Nepali Congress (11,251 votes). Ram Prasad Neupane of the CPN-UML, third in the order, got 10,936 votes. In the November elections, Lamichhane received 49,300 votes against 14,988 votes received by Umesh Shrestha of the Nepali Congress. As the Supreme Court revoked his House membership over the citizenship legitimacy issue, Lamichhane was forced to obtain back his citizenship and prepare for the by-election.'}\n",
      "<Response [200]>\n",
      "div\n",
      "{'title': '\\nRabi Lamichhane, Swarnim Wagle take oath as lawmakers; Upendra Yadav is absent ', 'content': '\\nRabi Lamichhane, Swarnim Wagle take oath as lawmakers; Upendra Yadav is absent  Two of the three lawmakers elected from the recent by-elections–Rabi Lamichhane and Swarnim Wagle–have taken the oath of office and secrecy as members of the House of Representatives. Lamichhane and Wagle, the leaders of the Rastriya Swatantra Party elected from Chitwan 2 and Tanahun 1 respectively, were sworn in by Speaker Dev Raj Ghimire at the function organised in Kathmandu on Friday morning. The third lawmaker, Upendra Yadav, the chairman of the Janata Samajbadi Party Nepal, elected from Bara 2, was absent. Meanwhile, the RSP president Lamichhane said his party would not join the government in the present circumstances.  Subscribe to Onlinekhabar English to get notified of exclusive news stories.'}\n",
      "<Response [200]>\n",
      "div\n",
      "{'title': '\\nCommission registers Rabi Lamichhane’s National Independent Party, gives bell as election symbol ', 'content': '\\nCommission registers Rabi Lamichhane’s National Independent Party, gives bell as election symbol  The Election Commission has approved the formation of a new political party named the National Independent Party led by popular former journalist Rabi Lamichhane. Although a complaint was registered against the proposed name of the party, the commission approved it. The constitutional body awarded the registration certificate to Lamichhane on Friday.  Lamichhane says the Nepal Independent Party has received a bell within a circle as the election symbol.  “The political party has been registered. Now, it has to go to the people,” Lamichhane says, “So far, we have got a chance to tell the public about a few things about our party. Now, we will continue sharing our views with them.” Subscribe to Onlinekhabar English to get notified of exclusive news stories.'}\n",
      "<Response [200]>\n",
      "div\n",
      "{'title': '\\nRabi Lamichhane announces Nepal Independent Party ', 'content': '\\nRabi Lamichhane announces Nepal Independent Party  Television personality Rabi Lamichhane announced the formation of a new party – Nepal Independent Party, at a programme held in Rastriya Sabha Griha in Kathmandu on Monday.  The election symbol for his party will be a bell.  Lamichhane yet did not say from where he would be contesting the next parliamentary elections. He also urged other independent candidates to join his party. Rabi Lamichhane said he had to form a party to collect proportional representational votes from all over the country.'}\n",
      "<Response [200]>\n",
      "div\n",
      "{'title': '\\nRabi Lamichhane exits TV to enter politics ', 'content': '\\nRabi Lamichhane exits TV to enter politics  Popular television presenter Rabi Lamichhane has announced he will contest in the forthcoming federal elections. Lamichhane says he will host a programme on June 21 at Rastriya Sabha Griha and officially announce his candidacy for the elections expected to be held around November. “I will contest the election from a constituency in Kathmandu. Which? I’ll announce that and more on June 21. I’ll also announce if I’m contesting the election independently or by forming a new party,” he said. Following this, Rabi Lamichhane has also resigned from his post as managing director at Galaxy 4k TV. Subscribe to Onlinekhabar English to get notified of exclusive news stories.'}\n"
     ]
    }
   ],
   "source": [
    "from bs4 import BeautifulSoup\n",
    "import requests\n",
    "import csv\n",
    "\n",
    "#online-khabar\n",
    "url = ['https://english.onlinekhabar.com/rabi-lamichhane-wins-chitwan-2-bypoll.html',\n",
    "       'https://english.onlinekhabar.com/rabi-lamichhane-swarnim-wagle-oath-mp.html',\n",
    "       'https://english.onlinekhabar.com/nepal-independent-party-registered.html',\n",
    "       'https://english.onlinekhabar.com/rabi-lamichhane-party.html',\n",
    "       'https://english.onlinekhabar.com/rabi-lamichhane-politics.html'\n",
    "       ]\n",
    "\n",
    "def getUrl(url):\n",
    "    pageContent = requests.get(url)\n",
    "    print(pageContent)\n",
    "    return pageContent\n",
    "\n",
    "def parse(pagecontent):\n",
    "    data = []\n",
    "    if pagecontent.status_code != 200:\n",
    "        print('Page not found')\n",
    "        return None\n",
    "    \n",
    "    coup = BeautifulSoup(pagecontent.content, 'html.parser')\n",
    "    \n",
    "    if coup.find('article') is not None:\n",
    "        print('article')\n",
    "        contentParse = coup.find('article')\n",
    "    elif coup.find('div') is not None:\n",
    "        print(\"div\")\n",
    "        contentParses = coup.find_all('div')\n",
    "        flag = 0\n",
    "        for contentParse in contentParses:\n",
    "            if contentParse.find('h1') is not None:\n",
    "                headline = contentParse.find('h1').text\n",
    "                break\n",
    "            flag += 1\n",
    "        \n",
    "        count = 0\n",
    "        newsArticles = contentParses[flag].find_all('p')[2:]\n",
    "        for newsArticle in newsArticles:\n",
    "            if count == 5:\n",
    "                break\n",
    "            data.append(newsArticle.text)\n",
    "            count += 1\n",
    "        \n",
    "        data.insert(0, headline)\n",
    "        data = ' '.join(data)\n",
    "        dictt = {\n",
    "            'title': headline,\n",
    "            'content': data\n",
    "        }\n",
    "        print(dictt)\n",
    "        return dictt\n",
    "    \n",
    "    else:\n",
    "        errormessage = 'No content found'\n",
    "        print(errormessage)\n",
    "        return None\n",
    "\n",
    "fieldnames = ['title','content']\n",
    "with open('1_WebScraping.csv', 'a', newline='') as csv_file:\n",
    "    csv_writer = csv.DictWriter(csv_file, fieldnames=fieldnames)\n",
    "    for lin in url:\n",
    "        news = parse(getUrl(lin))\n",
    "        if news:\n",
    "            csv_writer.writerow(news)\n"
   ]
  }
 ],
 "metadata": {
  "kernelspec": {
   "display_name": "Python 3 (ipykernel)",
   "language": "python",
   "name": "python3"
  },
  "language_info": {
   "codemirror_mode": {
    "name": "ipython",
    "version": 3
   },
   "file_extension": ".py",
   "mimetype": "text/x-python",
   "name": "python",
   "nbconvert_exporter": "python",
   "pygments_lexer": "ipython3",
   "version": "3.9.12"
  }
 },
 "nbformat": 4,
 "nbformat_minor": 5
}
